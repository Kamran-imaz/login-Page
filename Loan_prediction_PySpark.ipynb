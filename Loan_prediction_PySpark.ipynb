{
  "nbformat": 4,
  "nbformat_minor": 0,
  "metadata": {
    "colab": {
      "provenance": [],
      "authorship_tag": "ABX9TyNpSbAxB3ltHtrddHiKkOda",
      "include_colab_link": true
    },
    "kernelspec": {
      "name": "python3",
      "display_name": "Python 3"
    },
    "language_info": {
      "name": "python"
    }
  },
  "cells": [
    {
      "cell_type": "markdown",
      "metadata": {
        "id": "view-in-github",
        "colab_type": "text"
      },
      "source": [
        "<a href=\"https://colab.research.google.com/github/Kamran-imaz/login-Page/blob/master/Loan_prediction_PySpark.ipynb\" target=\"_parent\"><img src=\"https://colab.research.google.com/assets/colab-badge.svg\" alt=\"Open In Colab\"/></a>"
      ]
    },
    {
      "cell_type": "markdown",
      "source": [
        "# **Table of Contents**\n",
        "\n",
        "\n",
        "---\n",
        "\n",
        "\n",
        "*   Demonstration of Loan Approval Analysis with Decision Tree\n",
        "*   Setting up environments\n",
        "\n",
        "*   File Path and Dataset Loading\n",
        "*   Data Preprocessing\n",
        "*   Implementing Logistic Regression\n",
        "*   Implementing Random Forest\n",
        "*   Implementing Decision Tree\n",
        "\n",
        "\n"
      ],
      "metadata": {
        "id": "tp47tAa3yupM"
      }
    },
    {
      "cell_type": "code",
      "source": [
        "from pyspark.sql import SparkSession\n",
        "from pyspark.ml import Pipeline\n",
        "from pyspark.ml.feature import StringIndexer, OneHotEncoder, VectorAssembler\n",
        "from pyspark.ml.classification import DecisionTreeClassifier\n",
        "from pyspark.ml.linalg import Vectors\n",
        "from pyspark.sql.types import StructType, StructField, StringType, IntegerType, DoubleType\n",
        "\n",
        "def train_decision_tree_model(file_path):\n",
        "\n",
        "    #spark setup creation..\n",
        "    spark = SparkSession.builder.master(\"local[*]\").getOrCreate()\n",
        "    data = spark.read.csv(file_path, header=True, inferSchema=True)\n",
        "    data = data.select([data[col].alias(col.strip()) for col in data.columns])\n",
        "\n",
        "    # here we are doing the data preprocessing using string indexer and onehot encoding.....\n",
        "    indexers = [StringIndexer(inputCol=column, outputCol=column+\"_index\", handleInvalid='keep').fit(data) for column in [\"education\", \"self_employed\", \"loan_status\"]]\n",
        "    pipeline = Pipeline(stages=indexers)\n",
        "    data = pipeline.fit(data).transform(data)\n",
        "\n",
        "    encoders = [OneHotEncoder(inputCol=column+\"_index\", outputCol=column+\"_encoded\") for column in [\"education\", \"self_employed\"]]\n",
        "    pipeline = Pipeline(stages=encoders)\n",
        "    data = pipeline.fit(data).transform(data)\n",
        "\n",
        "    assembler = VectorAssembler(inputCols=['no_of_dependents','education_encoded','self_employed_encoded',\n",
        "                                           'income_annum','loan_amount','loan_term','cibil_score','residential_assets_value',\n",
        "                                           'commercial_assets_value','luxury_assets_value','bank_asset_value'], outputCol='features')\n",
        "    data = assembler.transform(data)\n",
        "\n",
        "    # Splitting data into train and test sets\n",
        "    train_data, test_data = data.randomSplit([0.8,0.7], seed=42)\n",
        "\n",
        "    # Training\n",
        "    dt = DecisionTreeClassifier(labelCol='loan_status_index', featuresCol='features')\n",
        "    model = dt.fit(train_data)\n",
        "\n",
        "    return model\n",
        "\n",
        "def predict_loan_probability(model, parameters):\n",
        "    # Setting of session\n",
        "    spark = SparkSession.builder.master(\"local[*]\").getOrCreate()\n",
        "\n",
        "    #schema for prediction DataFrame\n",
        "    schema = StructType([\n",
        "        StructField('no_of_dependents', IntegerType(), True),\n",
        "        StructField('education', StringType(), True),\n",
        "        StructField('self_employed', StringType(), True),\n",
        "        StructField('income_annum', IntegerType(), True),\n",
        "        StructField('loan_amount', IntegerType(), True),\n",
        "        StructField('loan_term', IntegerType(), True),\n",
        "        StructField('cibil_score', IntegerType(), True),\n",
        "        StructField('residential_assets_value', IntegerType(), True),\n",
        "        StructField('commercial_assets_value', IntegerType(), True),\n",
        "        StructField('luxury_assets_value', IntegerType(), True),\n",
        "        StructField('bank_asset_value', IntegerType(), True)\n",
        "    ])\n",
        "    # Create a DataFrame with the provided parameters\n",
        "    data = [parameters]\n",
        "    predict_df = spark.createDataFrame(data, schema)\n",
        "\n",
        "    # Apply the same transformations and assembler used during training\n",
        "    indexers = [StringIndexer(inputCol=column, outputCol=column+\"_index\", handleInvalid='keep').fit(predict_df) for column in [\"education\", \"self_employed\"]]\n",
        "    pipeline = Pipeline(stages=indexers)\n",
        "    predict_df = pipeline.fit(predict_df).transform(predict_df)\n",
        "\n",
        "    encoders = [OneHotEncoder(inputCol=column+\"_index\", outputCol=column+\"_encoded\") for column in [\"education\", \"self_employed\"]]\n",
        "    pipeline = Pipeline(stages=encoders)\n",
        "    predict_df = pipeline.fit(predict_df).transform(predict_df)\n",
        "\n",
        "    assembler = VectorAssembler(inputCols=['no_of_dependents','education_encoded','self_employed_encoded',\n",
        "                                           'income_annum','loan_amount','loan_term','cibil_score','residential_assets_value',\n",
        "                                           'commercial_assets_value','luxury_assets_value','bank_asset_value'], outputCol='features')\n",
        "    predict_df = assembler.transform(predict_df)\n",
        "\n",
        "    # Prediction\n",
        "    predictions = model.transform(predict_df)\n",
        "    probability = predictions.select('probability').collect()[0][0]\n",
        "\n",
        "    return probability\n",
        "\n",
        "\n"
      ],
      "metadata": {
        "id": "5zHMLjPyzV3N"
      },
      "execution_count": 134,
      "outputs": []
    },
    {
      "cell_type": "code",
      "source": [
        "# Example data\n",
        "file_path = '/content/loan_approval_dataset.csv'\n",
        "trained_model = train_decision_tree_model(file_path)\n",
        "\n",
        "parameters = (1, 'Graduate', 'No', 50000, 200000, 36, 750, 300000, 500000, 100000, 800000)\n",
        "\n",
        "probability = predict_loan_probability(trained_model, parameters)\n",
        "print('Probability of getting loan:', probability[1]*100)"
      ],
      "metadata": {
        "colab": {
          "base_uri": "https://localhost:8080/"
        },
        "id": "bbEq5_-x5FHQ",
        "outputId": "e2831231-6af9-47bb-f2fb-4ede8d7d217f"
      },
      "execution_count": 136,
      "outputs": [
        {
          "output_type": "stream",
          "name": "stdout",
          "text": [
            "Probability of getting loan: 6.0606060606060606\n"
          ]
        }
      ]
    },
    {
      "cell_type": "markdown",
      "source": [
        "**Setting up Environments**"
      ],
      "metadata": {
        "id": "_007xx9C0wTb"
      }
    },
    {
      "cell_type": "code",
      "execution_count": 1,
      "metadata": {
        "colab": {
          "base_uri": "https://localhost:8080/"
        },
        "id": "iLOKWmbsKeqj",
        "outputId": "b492b3f6-79b9-453a-87c2-1450640281ac"
      },
      "outputs": [
        {
          "output_type": "stream",
          "name": "stdout",
          "text": [
            "Collecting pyspark\n",
            "  Downloading pyspark-3.5.1.tar.gz (317.0 MB)\n",
            "\u001b[2K     \u001b[90m━━━━━━━━━━━━━━━━━━━━━━━━━━━━━━━━━━━━━━━━\u001b[0m \u001b[32m317.0/317.0 MB\u001b[0m \u001b[31m3.1 MB/s\u001b[0m eta \u001b[36m0:00:00\u001b[0m\n",
            "\u001b[?25h  Preparing metadata (setup.py) ... \u001b[?25l\u001b[?25hdone\n",
            "Requirement already satisfied: py4j==0.10.9.7 in /usr/local/lib/python3.10/dist-packages (from pyspark) (0.10.9.7)\n",
            "Building wheels for collected packages: pyspark\n",
            "  Building wheel for pyspark (setup.py) ... \u001b[?25l\u001b[?25hdone\n",
            "  Created wheel for pyspark: filename=pyspark-3.5.1-py2.py3-none-any.whl size=317488491 sha256=c880a2d855ff61ea1be98c441aa9245c7580bfcdc603962139af1d5b4c263b9c\n",
            "  Stored in directory: /root/.cache/pip/wheels/80/1d/60/2c256ed38dddce2fdd93be545214a63e02fbd8d74fb0b7f3a6\n",
            "Successfully built pyspark\n",
            "Installing collected packages: pyspark\n",
            "Successfully installed pyspark-3.5.1\n"
          ]
        }
      ],
      "source": [
        "!apt-get install openjdk-8-jdk-headless -qq > /dev/null\n",
        "!pip install pyspark\n",
        "!pip install -q findspark\n",
        "\n",
        "import os\n",
        "import findspark\n",
        "from pyspark.sql import SparkSession\n",
        "\n",
        "# Set up the environment\n",
        "os.environ[\"JAVA_HOME\"] = \"/usr/lib/jvm/java-8-openjdk-amd64\"\n",
        "findspark.init()\n",
        "\n",
        "# Create a Spark session\n",
        "spark = SparkSession.builder.master(\"local[*]\").getOrCreate()\n"
      ]
    },
    {
      "cell_type": "markdown",
      "source": [
        "**File Path and Dataset Loading**"
      ],
      "metadata": {
        "id": "8_C8RiiY09EV"
      }
    },
    {
      "cell_type": "code",
      "source": [
        "file_path = '/content/loan_approval_dataset.csv'"
      ],
      "metadata": {
        "id": "u_pjNbevLc4B"
      },
      "execution_count": 63,
      "outputs": []
    },
    {
      "cell_type": "code",
      "source": [
        "data = spark.read.csv(file_path,header=True,inferSchema=True)\n",
        "data.show()"
      ],
      "metadata": {
        "colab": {
          "base_uri": "https://localhost:8080/"
        },
        "id": "AcQ4TMYtLrxz",
        "outputId": "bbc3dcbd-c324-416b-8b10-319624bca055"
      },
      "execution_count": 64,
      "outputs": [
        {
          "output_type": "stream",
          "name": "stdout",
          "text": [
            "+-------+-----------------+-------------+--------------+-------------+------------+----------+------------+-------------------------+------------------------+--------------------+-----------------+------------+\n",
            "|loan_id| no_of_dependents|    education| self_employed| income_annum| loan_amount| loan_term| cibil_score| residential_assets_value| commercial_assets_value| luxury_assets_value| bank_asset_value| loan_status|\n",
            "+-------+-----------------+-------------+--------------+-------------+------------+----------+------------+-------------------------+------------------------+--------------------+-----------------+------------+\n",
            "|      1|                2|     Graduate|            No|      9600000|    29900000|        12|         778|                  2400000|                17600000|            22700000|          8000000|    Approved|\n",
            "|      2|                0| Not Graduate|           Yes|      4100000|    12200000|         8|         417|                  2700000|                 2200000|             8800000|          3300000|    Rejected|\n",
            "|      3|                3|     Graduate|            No|      9100000|    29700000|        20|         506|                  7100000|                 4500000|            33300000|         12800000|    Rejected|\n",
            "|      4|                3|     Graduate|            No|      8200000|    30700000|         8|         467|                 18200000|                 3300000|            23300000|          7900000|    Rejected|\n",
            "|      5|                5| Not Graduate|           Yes|      9800000|    24200000|        20|         382|                 12400000|                 8200000|            29400000|          5000000|    Rejected|\n",
            "|      6|                0|     Graduate|           Yes|      4800000|    13500000|        10|         319|                  6800000|                 8300000|            13700000|          5100000|    Rejected|\n",
            "|      7|                5|     Graduate|            No|      8700000|    33000000|         4|         678|                 22500000|                14800000|            29200000|          4300000|    Approved|\n",
            "|      8|                2|     Graduate|           Yes|      5700000|    15000000|        20|         382|                 13200000|                 5700000|            11800000|          6000000|    Rejected|\n",
            "|      9|                0|     Graduate|           Yes|       800000|     2200000|        20|         782|                  1300000|                  800000|             2800000|           600000|    Approved|\n",
            "|     10|                5| Not Graduate|            No|      1100000|     4300000|        10|         388|                  3200000|                 1400000|             3300000|          1600000|    Rejected|\n",
            "|     11|                4|     Graduate|           Yes|      2900000|    11200000|         2|         547|                  8100000|                 4700000|             9500000|          3100000|    Approved|\n",
            "|     12|                2| Not Graduate|           Yes|      6700000|    22700000|        18|         538|                 15300000|                 5800000|            20400000|          6400000|    Rejected|\n",
            "|     13|                3| Not Graduate|           Yes|      5000000|    11600000|        16|         311|                  6400000|                 9600000|            14600000|          4300000|    Rejected|\n",
            "|     14|                2|     Graduate|           Yes|      9100000|    31500000|        14|         679|                 10800000|                16600000|            20900000|          5000000|    Approved|\n",
            "|     15|                1| Not Graduate|            No|      1900000|     7400000|         6|         469|                  1900000|                 1200000|             5900000|          1900000|    Rejected|\n",
            "|     16|                5| Not Graduate|            No|      4700000|    10700000|        10|         794|                  5700000|                 3900000|            16400000|          4400000|    Approved|\n",
            "|     17|                2|     Graduate|           Yes|       500000|     1600000|         4|         663|                  1300000|                  100000|             1300000|           700000|    Approved|\n",
            "|     18|                4| Not Graduate|           Yes|      2900000|     9400000|        14|         780|                  2900000|                 2800000|             6700000|          4300000|    Approved|\n",
            "|     19|                2|     Graduate|            No|      2700000|    10300000|        10|         736|                  1000000|                       0|             6200000|          3300000|    Approved|\n",
            "|     20|                5|     Graduate|            No|      6300000|    14600000|        12|         652|                 10300000|                 3500000|            23500000|          5900000|    Approved|\n",
            "+-------+-----------------+-------------+--------------+-------------+------------+----------+------------+-------------------------+------------------------+--------------------+-----------------+------------+\n",
            "only showing top 20 rows\n",
            "\n"
          ]
        }
      ]
    },
    {
      "cell_type": "markdown",
      "source": [
        "**Data Preprocessing**"
      ],
      "metadata": {
        "id": "vaziNvtP1VQ8"
      }
    },
    {
      "cell_type": "code",
      "source": [
        "#data preprocessing\n",
        "\n",
        "from pyspark.ml.feature import StringIndexer, OneHotEncoder,VectorAssembler\n",
        "from pyspark.ml import Pipeline\n",
        "data = data.select([data[col].alias(col.strip()) for col in data.columns])\n",
        "indexers =[StringIndexer(inputCol=column,outputCol=column+\"_index\").fit(data) for column in [\"education\",\"self_employed\", \"loan_status\"]]\n",
        "pipeline = Pipeline(stages=indexers)\n",
        "data = pipeline.fit(data).transform(data)"
      ],
      "metadata": {
        "id": "flgrL-bLNsQY"
      },
      "execution_count": 66,
      "outputs": []
    },
    {
      "cell_type": "code",
      "source": [
        "data.show()"
      ],
      "metadata": {
        "colab": {
          "base_uri": "https://localhost:8080/"
        },
        "id": "Bnd8hX8mW-Lh",
        "outputId": "da51d45b-8a9a-457e-f23e-ed4a9c3350c8"
      },
      "execution_count": 67,
      "outputs": [
        {
          "output_type": "stream",
          "name": "stdout",
          "text": [
            "+-------+----------------+-------------+-------------+------------+-----------+---------+-----------+------------------------+-----------------------+-------------------+----------------+-----------+---------------+-------------------+-----------------+\n",
            "|loan_id|no_of_dependents|    education|self_employed|income_annum|loan_amount|loan_term|cibil_score|residential_assets_value|commercial_assets_value|luxury_assets_value|bank_asset_value|loan_status|education_index|self_employed_index|loan_status_index|\n",
            "+-------+----------------+-------------+-------------+------------+-----------+---------+-----------+------------------------+-----------------------+-------------------+----------------+-----------+---------------+-------------------+-----------------+\n",
            "|      1|               2|     Graduate|           No|     9600000|   29900000|       12|        778|                 2400000|               17600000|           22700000|         8000000|   Approved|            0.0|                1.0|              0.0|\n",
            "|      2|               0| Not Graduate|          Yes|     4100000|   12200000|        8|        417|                 2700000|                2200000|            8800000|         3300000|   Rejected|            1.0|                0.0|              1.0|\n",
            "|      3|               3|     Graduate|           No|     9100000|   29700000|       20|        506|                 7100000|                4500000|           33300000|        12800000|   Rejected|            0.0|                1.0|              1.0|\n",
            "|      4|               3|     Graduate|           No|     8200000|   30700000|        8|        467|                18200000|                3300000|           23300000|         7900000|   Rejected|            0.0|                1.0|              1.0|\n",
            "|      5|               5| Not Graduate|          Yes|     9800000|   24200000|       20|        382|                12400000|                8200000|           29400000|         5000000|   Rejected|            1.0|                0.0|              1.0|\n",
            "|      6|               0|     Graduate|          Yes|     4800000|   13500000|       10|        319|                 6800000|                8300000|           13700000|         5100000|   Rejected|            0.0|                0.0|              1.0|\n",
            "|      7|               5|     Graduate|           No|     8700000|   33000000|        4|        678|                22500000|               14800000|           29200000|         4300000|   Approved|            0.0|                1.0|              0.0|\n",
            "|      8|               2|     Graduate|          Yes|     5700000|   15000000|       20|        382|                13200000|                5700000|           11800000|         6000000|   Rejected|            0.0|                0.0|              1.0|\n",
            "|      9|               0|     Graduate|          Yes|      800000|    2200000|       20|        782|                 1300000|                 800000|            2800000|          600000|   Approved|            0.0|                0.0|              0.0|\n",
            "|     10|               5| Not Graduate|           No|     1100000|    4300000|       10|        388|                 3200000|                1400000|            3300000|         1600000|   Rejected|            1.0|                1.0|              1.0|\n",
            "|     11|               4|     Graduate|          Yes|     2900000|   11200000|        2|        547|                 8100000|                4700000|            9500000|         3100000|   Approved|            0.0|                0.0|              0.0|\n",
            "|     12|               2| Not Graduate|          Yes|     6700000|   22700000|       18|        538|                15300000|                5800000|           20400000|         6400000|   Rejected|            1.0|                0.0|              1.0|\n",
            "|     13|               3| Not Graduate|          Yes|     5000000|   11600000|       16|        311|                 6400000|                9600000|           14600000|         4300000|   Rejected|            1.0|                0.0|              1.0|\n",
            "|     14|               2|     Graduate|          Yes|     9100000|   31500000|       14|        679|                10800000|               16600000|           20900000|         5000000|   Approved|            0.0|                0.0|              0.0|\n",
            "|     15|               1| Not Graduate|           No|     1900000|    7400000|        6|        469|                 1900000|                1200000|            5900000|         1900000|   Rejected|            1.0|                1.0|              1.0|\n",
            "|     16|               5| Not Graduate|           No|     4700000|   10700000|       10|        794|                 5700000|                3900000|           16400000|         4400000|   Approved|            1.0|                1.0|              0.0|\n",
            "|     17|               2|     Graduate|          Yes|      500000|    1600000|        4|        663|                 1300000|                 100000|            1300000|          700000|   Approved|            0.0|                0.0|              0.0|\n",
            "|     18|               4| Not Graduate|          Yes|     2900000|    9400000|       14|        780|                 2900000|                2800000|            6700000|         4300000|   Approved|            1.0|                0.0|              0.0|\n",
            "|     19|               2|     Graduate|           No|     2700000|   10300000|       10|        736|                 1000000|                      0|            6200000|         3300000|   Approved|            0.0|                1.0|              0.0|\n",
            "|     20|               5|     Graduate|           No|     6300000|   14600000|       12|        652|                10300000|                3500000|           23500000|         5900000|   Approved|            0.0|                1.0|              0.0|\n",
            "+-------+----------------+-------------+-------------+------------+-----------+---------+-----------+------------------------+-----------------------+-------------------+----------------+-----------+---------------+-------------------+-----------------+\n",
            "only showing top 20 rows\n",
            "\n"
          ]
        }
      ]
    },
    {
      "cell_type": "code",
      "source": [
        "encoders = [OneHotEncoder(inputCol=column+\"_index\",outputCol=column+\"_encoded\") for column in [\"education\",\"self_employed\"]]\n",
        "pipeline = Pipeline(stages=encoders)\n",
        "data = pipeline.fit(data).transform(data)\n"
      ],
      "metadata": {
        "id": "vN1JJaAJXRoa"
      },
      "execution_count": 68,
      "outputs": []
    },
    {
      "cell_type": "code",
      "source": [
        "data.show()"
      ],
      "metadata": {
        "colab": {
          "base_uri": "https://localhost:8080/"
        },
        "id": "AdF1zv4kb45Y",
        "outputId": "6c425e3e-3724-471b-bb7c-aad7a7f9ec4c"
      },
      "execution_count": 69,
      "outputs": [
        {
          "output_type": "stream",
          "name": "stdout",
          "text": [
            "+-------+----------------+-------------+-------------+------------+-----------+---------+-----------+------------------------+-----------------------+-------------------+----------------+-----------+---------------+-------------------+-----------------+-----------------+---------------------+\n",
            "|loan_id|no_of_dependents|    education|self_employed|income_annum|loan_amount|loan_term|cibil_score|residential_assets_value|commercial_assets_value|luxury_assets_value|bank_asset_value|loan_status|education_index|self_employed_index|loan_status_index|education_encoded|self_employed_encoded|\n",
            "+-------+----------------+-------------+-------------+------------+-----------+---------+-----------+------------------------+-----------------------+-------------------+----------------+-----------+---------------+-------------------+-----------------+-----------------+---------------------+\n",
            "|      1|               2|     Graduate|           No|     9600000|   29900000|       12|        778|                 2400000|               17600000|           22700000|         8000000|   Approved|            0.0|                1.0|              0.0|    (1,[0],[1.0])|            (1,[],[])|\n",
            "|      2|               0| Not Graduate|          Yes|     4100000|   12200000|        8|        417|                 2700000|                2200000|            8800000|         3300000|   Rejected|            1.0|                0.0|              1.0|        (1,[],[])|        (1,[0],[1.0])|\n",
            "|      3|               3|     Graduate|           No|     9100000|   29700000|       20|        506|                 7100000|                4500000|           33300000|        12800000|   Rejected|            0.0|                1.0|              1.0|    (1,[0],[1.0])|            (1,[],[])|\n",
            "|      4|               3|     Graduate|           No|     8200000|   30700000|        8|        467|                18200000|                3300000|           23300000|         7900000|   Rejected|            0.0|                1.0|              1.0|    (1,[0],[1.0])|            (1,[],[])|\n",
            "|      5|               5| Not Graduate|          Yes|     9800000|   24200000|       20|        382|                12400000|                8200000|           29400000|         5000000|   Rejected|            1.0|                0.0|              1.0|        (1,[],[])|        (1,[0],[1.0])|\n",
            "|      6|               0|     Graduate|          Yes|     4800000|   13500000|       10|        319|                 6800000|                8300000|           13700000|         5100000|   Rejected|            0.0|                0.0|              1.0|    (1,[0],[1.0])|        (1,[0],[1.0])|\n",
            "|      7|               5|     Graduate|           No|     8700000|   33000000|        4|        678|                22500000|               14800000|           29200000|         4300000|   Approved|            0.0|                1.0|              0.0|    (1,[0],[1.0])|            (1,[],[])|\n",
            "|      8|               2|     Graduate|          Yes|     5700000|   15000000|       20|        382|                13200000|                5700000|           11800000|         6000000|   Rejected|            0.0|                0.0|              1.0|    (1,[0],[1.0])|        (1,[0],[1.0])|\n",
            "|      9|               0|     Graduate|          Yes|      800000|    2200000|       20|        782|                 1300000|                 800000|            2800000|          600000|   Approved|            0.0|                0.0|              0.0|    (1,[0],[1.0])|        (1,[0],[1.0])|\n",
            "|     10|               5| Not Graduate|           No|     1100000|    4300000|       10|        388|                 3200000|                1400000|            3300000|         1600000|   Rejected|            1.0|                1.0|              1.0|        (1,[],[])|            (1,[],[])|\n",
            "|     11|               4|     Graduate|          Yes|     2900000|   11200000|        2|        547|                 8100000|                4700000|            9500000|         3100000|   Approved|            0.0|                0.0|              0.0|    (1,[0],[1.0])|        (1,[0],[1.0])|\n",
            "|     12|               2| Not Graduate|          Yes|     6700000|   22700000|       18|        538|                15300000|                5800000|           20400000|         6400000|   Rejected|            1.0|                0.0|              1.0|        (1,[],[])|        (1,[0],[1.0])|\n",
            "|     13|               3| Not Graduate|          Yes|     5000000|   11600000|       16|        311|                 6400000|                9600000|           14600000|         4300000|   Rejected|            1.0|                0.0|              1.0|        (1,[],[])|        (1,[0],[1.0])|\n",
            "|     14|               2|     Graduate|          Yes|     9100000|   31500000|       14|        679|                10800000|               16600000|           20900000|         5000000|   Approved|            0.0|                0.0|              0.0|    (1,[0],[1.0])|        (1,[0],[1.0])|\n",
            "|     15|               1| Not Graduate|           No|     1900000|    7400000|        6|        469|                 1900000|                1200000|            5900000|         1900000|   Rejected|            1.0|                1.0|              1.0|        (1,[],[])|            (1,[],[])|\n",
            "|     16|               5| Not Graduate|           No|     4700000|   10700000|       10|        794|                 5700000|                3900000|           16400000|         4400000|   Approved|            1.0|                1.0|              0.0|        (1,[],[])|            (1,[],[])|\n",
            "|     17|               2|     Graduate|          Yes|      500000|    1600000|        4|        663|                 1300000|                 100000|            1300000|          700000|   Approved|            0.0|                0.0|              0.0|    (1,[0],[1.0])|        (1,[0],[1.0])|\n",
            "|     18|               4| Not Graduate|          Yes|     2900000|    9400000|       14|        780|                 2900000|                2800000|            6700000|         4300000|   Approved|            1.0|                0.0|              0.0|        (1,[],[])|        (1,[0],[1.0])|\n",
            "|     19|               2|     Graduate|           No|     2700000|   10300000|       10|        736|                 1000000|                      0|            6200000|         3300000|   Approved|            0.0|                1.0|              0.0|    (1,[0],[1.0])|            (1,[],[])|\n",
            "|     20|               5|     Graduate|           No|     6300000|   14600000|       12|        652|                10300000|                3500000|           23500000|         5900000|   Approved|            0.0|                1.0|              0.0|    (1,[0],[1.0])|            (1,[],[])|\n",
            "+-------+----------------+-------------+-------------+------------+-----------+---------+-----------+------------------------+-----------------------+-------------------+----------------+-----------+---------------+-------------------+-----------------+-----------------+---------------------+\n",
            "only showing top 20 rows\n",
            "\n"
          ]
        }
      ]
    },
    {
      "cell_type": "code",
      "source": [
        "assembler = VectorAssembler(inputCols=['no_of_dependents','education_encoded','self_employed_encoded','income_annum','loan_amount','loan_term','cibil_score','residential_assets_value','commercial_assets_value','luxury_assets_value','bank_asset_value'],outputCol='features')\n",
        "data = assembler.transform(data)\n",
        "data.show()"
      ],
      "metadata": {
        "colab": {
          "base_uri": "https://localhost:8080/"
        },
        "id": "qcVpLzzJcXLh",
        "outputId": "eb12f875-3bf4-4cc6-9992-e5cfba08f510"
      },
      "execution_count": 70,
      "outputs": [
        {
          "output_type": "stream",
          "name": "stdout",
          "text": [
            "+-------+----------------+-------------+-------------+------------+-----------+---------+-----------+------------------------+-----------------------+-------------------+----------------+-----------+---------------+-------------------+-----------------+-----------------+---------------------+--------------------+\n",
            "|loan_id|no_of_dependents|    education|self_employed|income_annum|loan_amount|loan_term|cibil_score|residential_assets_value|commercial_assets_value|luxury_assets_value|bank_asset_value|loan_status|education_index|self_employed_index|loan_status_index|education_encoded|self_employed_encoded|            features|\n",
            "+-------+----------------+-------------+-------------+------------+-----------+---------+-----------+------------------------+-----------------------+-------------------+----------------+-----------+---------------+-------------------+-----------------+-----------------+---------------------+--------------------+\n",
            "|      1|               2|     Graduate|           No|     9600000|   29900000|       12|        778|                 2400000|               17600000|           22700000|         8000000|   Approved|            0.0|                1.0|              0.0|    (1,[0],[1.0])|            (1,[],[])|[2.0,1.0,0.0,9600...|\n",
            "|      2|               0| Not Graduate|          Yes|     4100000|   12200000|        8|        417|                 2700000|                2200000|            8800000|         3300000|   Rejected|            1.0|                0.0|              1.0|        (1,[],[])|        (1,[0],[1.0])|[0.0,0.0,1.0,4100...|\n",
            "|      3|               3|     Graduate|           No|     9100000|   29700000|       20|        506|                 7100000|                4500000|           33300000|        12800000|   Rejected|            0.0|                1.0|              1.0|    (1,[0],[1.0])|            (1,[],[])|[3.0,1.0,0.0,9100...|\n",
            "|      4|               3|     Graduate|           No|     8200000|   30700000|        8|        467|                18200000|                3300000|           23300000|         7900000|   Rejected|            0.0|                1.0|              1.0|    (1,[0],[1.0])|            (1,[],[])|[3.0,1.0,0.0,8200...|\n",
            "|      5|               5| Not Graduate|          Yes|     9800000|   24200000|       20|        382|                12400000|                8200000|           29400000|         5000000|   Rejected|            1.0|                0.0|              1.0|        (1,[],[])|        (1,[0],[1.0])|[5.0,0.0,1.0,9800...|\n",
            "|      6|               0|     Graduate|          Yes|     4800000|   13500000|       10|        319|                 6800000|                8300000|           13700000|         5100000|   Rejected|            0.0|                0.0|              1.0|    (1,[0],[1.0])|        (1,[0],[1.0])|[0.0,1.0,1.0,4800...|\n",
            "|      7|               5|     Graduate|           No|     8700000|   33000000|        4|        678|                22500000|               14800000|           29200000|         4300000|   Approved|            0.0|                1.0|              0.0|    (1,[0],[1.0])|            (1,[],[])|[5.0,1.0,0.0,8700...|\n",
            "|      8|               2|     Graduate|          Yes|     5700000|   15000000|       20|        382|                13200000|                5700000|           11800000|         6000000|   Rejected|            0.0|                0.0|              1.0|    (1,[0],[1.0])|        (1,[0],[1.0])|[2.0,1.0,1.0,5700...|\n",
            "|      9|               0|     Graduate|          Yes|      800000|    2200000|       20|        782|                 1300000|                 800000|            2800000|          600000|   Approved|            0.0|                0.0|              0.0|    (1,[0],[1.0])|        (1,[0],[1.0])|[0.0,1.0,1.0,8000...|\n",
            "|     10|               5| Not Graduate|           No|     1100000|    4300000|       10|        388|                 3200000|                1400000|            3300000|         1600000|   Rejected|            1.0|                1.0|              1.0|        (1,[],[])|            (1,[],[])|[5.0,0.0,0.0,1100...|\n",
            "|     11|               4|     Graduate|          Yes|     2900000|   11200000|        2|        547|                 8100000|                4700000|            9500000|         3100000|   Approved|            0.0|                0.0|              0.0|    (1,[0],[1.0])|        (1,[0],[1.0])|[4.0,1.0,1.0,2900...|\n",
            "|     12|               2| Not Graduate|          Yes|     6700000|   22700000|       18|        538|                15300000|                5800000|           20400000|         6400000|   Rejected|            1.0|                0.0|              1.0|        (1,[],[])|        (1,[0],[1.0])|[2.0,0.0,1.0,6700...|\n",
            "|     13|               3| Not Graduate|          Yes|     5000000|   11600000|       16|        311|                 6400000|                9600000|           14600000|         4300000|   Rejected|            1.0|                0.0|              1.0|        (1,[],[])|        (1,[0],[1.0])|[3.0,0.0,1.0,5000...|\n",
            "|     14|               2|     Graduate|          Yes|     9100000|   31500000|       14|        679|                10800000|               16600000|           20900000|         5000000|   Approved|            0.0|                0.0|              0.0|    (1,[0],[1.0])|        (1,[0],[1.0])|[2.0,1.0,1.0,9100...|\n",
            "|     15|               1| Not Graduate|           No|     1900000|    7400000|        6|        469|                 1900000|                1200000|            5900000|         1900000|   Rejected|            1.0|                1.0|              1.0|        (1,[],[])|            (1,[],[])|[1.0,0.0,0.0,1900...|\n",
            "|     16|               5| Not Graduate|           No|     4700000|   10700000|       10|        794|                 5700000|                3900000|           16400000|         4400000|   Approved|            1.0|                1.0|              0.0|        (1,[],[])|            (1,[],[])|[5.0,0.0,0.0,4700...|\n",
            "|     17|               2|     Graduate|          Yes|      500000|    1600000|        4|        663|                 1300000|                 100000|            1300000|          700000|   Approved|            0.0|                0.0|              0.0|    (1,[0],[1.0])|        (1,[0],[1.0])|[2.0,1.0,1.0,5000...|\n",
            "|     18|               4| Not Graduate|          Yes|     2900000|    9400000|       14|        780|                 2900000|                2800000|            6700000|         4300000|   Approved|            1.0|                0.0|              0.0|        (1,[],[])|        (1,[0],[1.0])|[4.0,0.0,1.0,2900...|\n",
            "|     19|               2|     Graduate|           No|     2700000|   10300000|       10|        736|                 1000000|                      0|            6200000|         3300000|   Approved|            0.0|                1.0|              0.0|    (1,[0],[1.0])|            (1,[],[])|[2.0,1.0,0.0,2700...|\n",
            "|     20|               5|     Graduate|           No|     6300000|   14600000|       12|        652|                10300000|                3500000|           23500000|         5900000|   Approved|            0.0|                1.0|              0.0|    (1,[0],[1.0])|            (1,[],[])|[5.0,1.0,0.0,6300...|\n",
            "+-------+----------------+-------------+-------------+------------+-----------+---------+-----------+------------------------+-----------------------+-------------------+----------------+-----------+---------------+-------------------+-----------------+-----------------+---------------------+--------------------+\n",
            "only showing top 20 rows\n",
            "\n"
          ]
        }
      ]
    },
    {
      "cell_type": "markdown",
      "source": [
        "**Implementing Logistic Regression**"
      ],
      "metadata": {
        "id": "rNMDLQ6j1dI5"
      }
    },
    {
      "cell_type": "code",
      "source": [
        "from pyspark.ml.classification import LogisticRegression\n",
        "from pyspark.ml.evaluation import BinaryClassificationEvaluator\n",
        "\n",
        "lr = LogisticRegression(labelCol='loan_status_index',featuresCol='features')\n",
        "train_data,test_data = data.randomSplit([0.7,0.3],seed=42)"
      ],
      "metadata": {
        "id": "nuC9G1tJdmb3"
      },
      "execution_count": 71,
      "outputs": []
    },
    {
      "cell_type": "code",
      "source": [
        "model = lr.fit(train_data)"
      ],
      "metadata": {
        "id": "lDzBrb5leRev"
      },
      "execution_count": 72,
      "outputs": []
    },
    {
      "cell_type": "code",
      "source": [
        "predictions = model.transform(test_data)\n"
      ],
      "metadata": {
        "id": "MnBXBTnlka3v"
      },
      "execution_count": 93,
      "outputs": []
    },
    {
      "cell_type": "code",
      "source": [
        "predictions.select('probability').collect()[0]\n"
      ],
      "metadata": {
        "colab": {
          "base_uri": "https://localhost:8080/"
        },
        "id": "nNBdDrvkk0MV",
        "outputId": "bc59f714-b7be-4e87-df43-395753156622"
      },
      "execution_count": 138,
      "outputs": [
        {
          "output_type": "execute_result",
          "data": {
            "text/plain": [
              "Row(probability=DenseVector([0.173, 0.827]))"
            ]
          },
          "metadata": {},
          "execution_count": 138
        }
      ]
    },
    {
      "cell_type": "code",
      "source": [
        "evaluator = BinaryClassificationEvaluator(labelCol='loan_status_index')\n",
        "accuracy = evaluator.evaluate(predictions)\n",
        "print('Accuracy using Logistic Regression is:',accuracy*100)"
      ],
      "metadata": {
        "colab": {
          "base_uri": "https://localhost:8080/"
        },
        "id": "8hIJUlaZlOoY",
        "outputId": "b5f9f6fb-11c0-4d69-b072-e42a94623a39"
      },
      "execution_count": 102,
      "outputs": [
        {
          "output_type": "stream",
          "name": "stdout",
          "text": [
            "Accuracy using Logistic Regression is: 96.95360440442722\n"
          ]
        }
      ]
    },
    {
      "cell_type": "markdown",
      "source": [
        "**Implementing Random Forest**"
      ],
      "metadata": {
        "id": "rBL1hwtY1knE"
      }
    },
    {
      "cell_type": "code",
      "source": [
        "from pyspark.ml.classification import RandomForestClassifier\n",
        "rf= RandomForestClassifier(labelCol='loan_status_index',featuresCol='features')\n"
      ],
      "metadata": {
        "id": "hGOL-Zglltk9"
      },
      "execution_count": 98,
      "outputs": []
    },
    {
      "cell_type": "code",
      "source": [
        "model_rf=rf.fit(train_data)\n",
        "prediction_rf = model.transform(test_data)"
      ],
      "metadata": {
        "id": "eZA5B7ayrs5E"
      },
      "execution_count": 99,
      "outputs": []
    },
    {
      "cell_type": "code",
      "source": [
        "evaluator_lr = BinaryClassificationEvaluator(labelCol='loan_status_index')\n",
        "accuracy_lr = evaluator_lr.evaluate(prediction_rf)\n",
        "print(\"Accuracy of Random Forest is: \", accuracy_lr*100)"
      ],
      "metadata": {
        "colab": {
          "base_uri": "https://localhost:8080/"
        },
        "id": "SMVRK4fps7Qr",
        "outputId": "1a1c27d1-2869-4134-b957-350b523631b4"
      },
      "execution_count": 101,
      "outputs": [
        {
          "output_type": "stream",
          "name": "stdout",
          "text": [
            "Accuracy of Random Forest is:  96.95360440442722\n"
          ]
        }
      ]
    },
    {
      "cell_type": "markdown",
      "source": [
        "**Implementing Decision Tree**"
      ],
      "metadata": {
        "id": "TqmI_e6-1pus"
      }
    },
    {
      "cell_type": "code",
      "source": [
        "from pyspark.ml.classification import DecisionTreeClassifier\n",
        "dt = DecisionTreeClassifier(labelCol='loan_status_index',featuresCol='features')"
      ],
      "metadata": {
        "id": "wLH8m-CPtXoA"
      },
      "execution_count": 104,
      "outputs": []
    },
    {
      "cell_type": "code",
      "source": [
        "model = dt.fit(train_data)\n",
        "predictions_dt = model.transform(test_data)"
      ],
      "metadata": {
        "id": "7tRBrpFetp4z"
      },
      "execution_count": 105,
      "outputs": []
    },
    {
      "cell_type": "code",
      "source": [
        "evaluate_dt = BinaryClassificationEvaluator(labelCol='loan_status_index')\n",
        "accuracy_dt = evaluate_dt.evaluate(predictions_dt)\n",
        "print(\"Accuracy of Decision Tree is: \", accuracy_dt*100)"
      ],
      "metadata": {
        "colab": {
          "base_uri": "https://localhost:8080/"
        },
        "id": "zzjISX_Xt1S2",
        "outputId": "a4dac02e-463f-4ec6-9a5d-1746491aef54"
      },
      "execution_count": 107,
      "outputs": [
        {
          "output_type": "stream",
          "name": "stdout",
          "text": [
            "Accuracy of Decision Tree is:  97.38200378505476\n"
          ]
        }
      ]
    },
    {
      "cell_type": "markdown",
      "source": [
        "**Caluclation of F1 Scores of Logistic Regression, Random Forest and Decision Tree**"
      ],
      "metadata": {
        "id": "mf_YVdgn10vY"
      }
    },
    {
      "cell_type": "code",
      "source": [
        "from pyspark.ml.evaluation import MulticlassClassificationEvaluator\n",
        "evaluator = MulticlassClassificationEvaluator(labelCol='loan_status_index',predictionCol='prediction',metricName='f1')\n",
        "precision = evaluator.evaluate(predictions)\n",
        "print(\"Precision of Logistic Regression is: \", precision*100)\n",
        "precision = evaluator.evaluate(prediction_rf)\n",
        "print(\"Precision of Random Forest is: \", precision*100)\n",
        "precision = evaluator.evaluate(predictions_dt)\n",
        "print(\"Precision of Decision Tree is: \", precision*100)"
      ],
      "metadata": {
        "colab": {
          "base_uri": "https://localhost:8080/"
        },
        "id": "nR3FptjGup-8",
        "outputId": "a75ef09e-8b0f-4c32-ca61-6f0408332f02"
      },
      "execution_count": 117,
      "outputs": [
        {
          "output_type": "stream",
          "name": "stdout",
          "text": [
            "Precision of Logistic Regression is:  91.4191419141914\n",
            "Precision of Random Forest is:  91.4191419141914\n",
            "Precision of Decision Tree is:  95.79919474328528\n"
          ]
        }
      ]
    }
  ]
}